{
 "cells": [
  {
   "cell_type": "code",
   "execution_count": 76,
   "metadata": {},
   "outputs": [],
   "source": [
    "import requests_cache\n",
    "from datetime import timedelta\n",
    "import json\n",
    "from src.info import get_address_info\n",
    "from src.ens import address_from_ens, ens_from_address, other_ens_owned_by, domain_events\n",
    "from src.transactions import get_transactions\n",
    "from src.tokens import get_token_transfers\n",
    "from src.time_series import get_time_series\n",
    "from src.graph import count_transactions_by_address\n",
    "from typing import List, Tuple, Dict\n",
    "\n",
    "session = requests_cache.CachedSession('./cache',\n",
    "                                       expire_after=timedelta(days=3))\n",
    "\n",
    "# INPUT = \"0x71B5b8Ec4D724849E76954A1475930dcE9c4B994\"\n",
    "INPUT = \"kartik.eth\"\n",
    "INPUT = \"poap.eth\"\n",
    "input = INPUT\n",
    "\n",
    "if input.endswith(\".eth\"):\n",
    "    input = address_from_ens(session, input)\n",
    "ens = ens_from_address(session, input)\n",
    "other_ens_owned = other_ens_owned_by(session, input)\n",
    "addresses_with_domain_events = []\n",
    "for e in ens:\n",
    "    addresses_with_domain_events.extend(domain_events(session, e))\n",
    "transactions = get_transactions(session, input)\n",
    "token_transfers = get_token_transfers(session, input)"
   ]
  },
  {
   "cell_type": "code",
   "execution_count": 77,
   "metadata": {},
   "outputs": [
    {
     "data": {
      "text/plain": [
       "[{'name': 'poap.xyz', 'address': None},\n",
       " {'name': 'checkout.poap.eth',\n",
       "  'address': '0xD648b4BE702Ff3651FBDB7be18c3548986A7D058'},\n",
       " {'name': 'sales.poap.eth',\n",
       "  'address': '0xe6DBF43F5927969Fd99E3d193C3fBfB88951A2B9'},\n",
       " {'name': 'vault.poap.eth',\n",
       "  'address': '0x90A9d3661B1963BC33ccF4D55d663dF5856C1126'},\n",
       " {'name': 'booth.poap.eth', 'address': None},\n",
       " {'name': 'ecosystem.poap.eth',\n",
       "  'address': '0xdDd41BCd80FEb8B02e46baDA482Eb6AFD433aff7'},\n",
       " {'name': 'community.poap.eth', 'address': None},\n",
       " {'name': 'engineering.poap.eth',\n",
       "  'address': '0x72b1784aAA95E2451D2FF567181Ec11961aC3eA1'},\n",
       " {'name': 'ops.poap.eth',\n",
       "  'address': '0xF99AC673d70D3758E3291C37463D0D26e0E055a4'},\n",
       " {'name': 'multisig.poap.eth',\n",
       "  'address': '0x059b3e91ea520436AE0685c931681c489d8375dE'},\n",
       " {'name': 'heidi.eth', 'address': None}]"
      ]
     },
     "execution_count": 77,
     "metadata": {},
     "output_type": "execute_result"
    }
   ],
   "source": [
    "other_ens_owned"
   ]
  },
  {
   "cell_type": "code",
   "execution_count": null,
   "metadata": {},
   "outputs": [],
   "source": []
  },
  {
   "cell_type": "code",
   "execution_count": 78,
   "metadata": {},
   "outputs": [
    {
     "data": {
      "text/plain": [
       "[{'id': 0,\n",
       "  'label': 'poaplabs.eth\\npoap.9dcc.eth\\npoap.mirror.xyz\\nmbag.eth\\npoapcollection.eth\\npoap.sismo.eth\\njuliuspreite.eth\\nlavarello.eth\\npoap.eth\\npatricio.eth',\n",
       "  'group': 1,\n",
       "  'size': 20,\n",
       "  'address': '0xf6B6F07862A02C85628B3A9688beae07fEA9C863'}]"
      ]
     },
     "execution_count": 78,
     "metadata": {},
     "output_type": "execute_result"
    }
   ],
   "source": [
    "nodes = [\n",
    "    {\"id\": 0, \"label\": \"\\n\".join(ens), \"group\": 1, \"size\": 20, \"address\": input},\n",
    "]\n",
    "edges = []\n",
    "nodes"
   ]
  },
  {
   "cell_type": "code",
   "execution_count": 79,
   "metadata": {},
   "outputs": [],
   "source": [
    "def add_address_to_nodes(address: str, strength: int, label: str = None):\n",
    "    if address == input:\n",
    "        return\n",
    "    node = next((a for a in nodes if a[\"address\"] == address), None)\n",
    "    if node is None:\n",
    "        nodes.append({\n",
    "            \"id\": len(nodes),\n",
    "            \"label\": label if label else address,\n",
    "            \"group\": 2,\n",
    "            \"size\": 10,\n",
    "            \"address\": address\n",
    "        })\n",
    "        node = nodes[-1]\n",
    "    \n",
    "    edge = next((e for e in edges if e[\"to\"] == node[\"id\"]), None)\n",
    "    if edge is None:\n",
    "        edges.append({\n",
    "            \"from\": 0,\n",
    "            \"to\": node[\"id\"],\n",
    "            \"strength\": strength\n",
    "        })\n",
    "    else:\n",
    "        edges[edges.index(edge)][\"strength\"] += strength\n"
   ]
  },
  {
   "cell_type": "code",
   "execution_count": 80,
   "metadata": {},
   "outputs": [],
   "source": [
    "addresses_with_domain_events = set(addresses_with_domain_events)\n",
    "if input in addresses_with_domain_events:\n",
    "    addresses_with_domain_events.remove(input)\n",
    "for address in addresses_with_domain_events:\n",
    "    add_address_to_nodes(address, 1)"
   ]
  },
  {
   "cell_type": "code",
   "execution_count": 81,
   "metadata": {},
   "outputs": [
    {
     "data": {
      "text/plain": [
       "3"
      ]
     },
     "execution_count": 81,
     "metadata": {},
     "output_type": "execute_result"
    }
   ],
   "source": [
    "len(nodes)"
   ]
  },
  {
   "cell_type": "code",
   "execution_count": 82,
   "metadata": {},
   "outputs": [],
   "source": [
    "for e in other_ens_owned:\n",
    "    if e[\"address\"]:\n",
    "        add_address_to_nodes(e[\"address\"], 1, e[\"name\"])"
   ]
  },
  {
   "cell_type": "code",
   "execution_count": 83,
   "metadata": {},
   "outputs": [],
   "source": [
    "def count_transactions_by_address(\n",
    "        transactions: List[dict]) -> List[Tuple[str, int, int]]:\n",
    "    transactions = [\n",
    "        tx for tx in transactions\n",
    "        if not tx[\"contract\"]\n",
    "    ]\n",
    "    address_counts: Dict[str, Tuple[int, int]] = {}\n",
    "\n",
    "    for tx in transactions:\n",
    "        if tx['from'] not in address_counts:\n",
    "            address_counts[tx['from']] = (0, 0)\n",
    "        if tx['to'] not in address_counts:\n",
    "            address_counts[tx['to']] = (0, 0)\n",
    "\n",
    "        from_in, from_out = address_counts[tx['from']]\n",
    "        to_in, to_out = address_counts[tx['to']]\n",
    "\n",
    "        address_counts[tx['from']] = (from_in, from_out + 1)\n",
    "        address_counts[tx['to']] = (to_in + 1, to_out)\n",
    "\n",
    "    result = [(addr, in_count, out_count)\n",
    "              for addr, (in_count, out_count) in address_counts.items()]\n",
    "    return sorted(result, key=lambda x: x[1] + x[2], reverse=True)"
   ]
  },
  {
   "cell_type": "code",
   "execution_count": 84,
   "metadata": {},
   "outputs": [],
   "source": [
    "top_interactions = count_transactions_by_address(transactions + token_transfers)[:10]\n",
    "max_amount = (top_interactions[1][1] + top_interactions[1][2]) / 2\n",
    "for i in top_interactions:\n",
    "    add_address_to_nodes(i[0], (i[1] + i[2]) / max_amount)"
   ]
  },
  {
   "cell_type": "code",
   "execution_count": 85,
   "metadata": {},
   "outputs": [
    {
     "data": {
      "text/plain": [
       "[{'from': 0, 'to': 1, 'strength': 1},\n",
       " {'from': 0, 'to': 2, 'strength': 1},\n",
       " {'from': 0, 'to': 3, 'strength': 1},\n",
       " {'from': 0, 'to': 4, 'strength': 1},\n",
       " {'from': 0, 'to': 5, 'strength': 1},\n",
       " {'from': 0, 'to': 6, 'strength': 1.8},\n",
       " {'from': 0, 'to': 7, 'strength': 1},\n",
       " {'from': 0, 'to': 8, 'strength': 1},\n",
       " {'from': 0, 'to': 9, 'strength': 1},\n",
       " {'from': 0, 'to': 10, 'strength': 2.0},\n",
       " {'from': 0, 'to': 11, 'strength': 1.0},\n",
       " {'from': 0, 'to': 12, 'strength': 1.0},\n",
       " {'from': 0, 'to': 13, 'strength': 0.8},\n",
       " {'from': 0, 'to': 14, 'strength': 0.6},\n",
       " {'from': 0, 'to': 15, 'strength': 0.6},\n",
       " {'from': 0, 'to': 16, 'strength': 0.6},\n",
       " {'from': 0, 'to': 17, 'strength': 0.4}]"
      ]
     },
     "execution_count": 85,
     "metadata": {},
     "output_type": "execute_result"
    }
   ],
   "source": [
    "edges"
   ]
  },
  {
   "cell_type": "code",
   "execution_count": 87,
   "metadata": {},
   "outputs": [
    {
     "name": "stdout",
     "output_type": "stream",
     "text": [
      "{'id': 1, 'label': '0x0904Dac3347eA47d208F3Fd67402D039a3b99859', 'group': 2, 'size': 10, 'address': '0x0904Dac3347eA47d208F3Fd67402D039a3b99859'}\n",
      "{'id': 2, 'label': '0x4430eDFBB4777B3F8E5b951803657703039D688b', 'group': 2, 'size': 10, 'address': '0x4430eDFBB4777B3F8E5b951803657703039D688b'}\n",
      "{'id': 10, 'label': '0x4CCC2ACdd43811Ce928cef7371Fc95daF7418631', 'group': 2, 'size': 10, 'address': '0x4CCC2ACdd43811Ce928cef7371Fc95daF7418631'}\n",
      "{'id': 11, 'label': '0xbAED477c4A8Cdb6079E4A64950ac60941b9A301f', 'group': 2, 'size': 10, 'address': '0xbAED477c4A8Cdb6079E4A64950ac60941b9A301f'}\n",
      "{'id': 12, 'label': '0x7DBF6820D32cFBd5D656bf9BFf0deF229B37cF0E', 'group': 2, 'size': 10, 'address': '0x7DBF6820D32cFBd5D656bf9BFf0deF229B37cF0E'}\n",
      "{'id': 13, 'label': '0x20D08E58952bb70ff0EC1271085cA969C14BE2a3', 'group': 2, 'size': 10, 'address': '0x20D08E58952bb70ff0EC1271085cA969C14BE2a3'}\n",
      "{'id': 14, 'label': '0xA1DD0b787E5ee1fe2C50cEcb5560b543527F4053', 'group': 2, 'size': 10, 'address': '0xA1DD0b787E5ee1fe2C50cEcb5560b543527F4053'}\n",
      "{'id': 15, 'label': '0x14fC0bE8e90aB768226cCCf952506Ce00Bde5029', 'group': 2, 'size': 10, 'address': '0x14fC0bE8e90aB768226cCCf952506Ce00Bde5029'}\n",
      "{'id': 16, 'label': '0x9197e6826E0b220Cd10e0c13982D3f615EC7607f', 'group': 2, 'size': 10, 'address': '0x9197e6826E0b220Cd10e0c13982D3f615EC7607f'}\n",
      "{'id': 17, 'label': '0x4cED88F97e836aBf4A1Cc9cc3DBb92cFBAf61ca3', 'group': 2, 'size': 10, 'address': '0x4cED88F97e836aBf4A1Cc9cc3DBb92cFBAf61ca3'}\n"
     ]
    }
   ],
   "source": [
    "for n in nodes:\n",
    "    if n[\"label\"].startswith(\"0x\") and len(n[\"label\"]) == 42:\n",
    "        ens = ens_from_address(session, n[\"label\"])\n",
    "        if len(ens) > 0:\n",
    "            nodes[nodes.index(n)][\"label\"] = ens[0]            "
   ]
  },
  {
   "cell_type": "code",
   "execution_count": null,
   "metadata": {},
   "outputs": [],
   "source": [
    "nodes"
   ]
  }
 ],
 "metadata": {
  "kernelspec": {
   "display_name": ".venv",
   "language": "python",
   "name": "python3"
  },
  "language_info": {
   "codemirror_mode": {
    "name": "ipython",
    "version": 3
   },
   "file_extension": ".py",
   "mimetype": "text/x-python",
   "name": "python",
   "nbconvert_exporter": "python",
   "pygments_lexer": "ipython3",
   "version": "3.13.3"
  }
 },
 "nbformat": 4,
 "nbformat_minor": 2
}
