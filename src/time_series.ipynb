{
 "cells": [
  {
   "cell_type": "code",
   "execution_count": 13,
   "metadata": {},
   "outputs": [],
   "source": [
    "import requests_cache\n",
    "from datetime import timedelta\n",
    "import json\n",
    "from info import get_address_info\n",
    "from ens import address_from_ens, ens_from_address, other_ens_owned_by, domain_events\n",
    "from transactions import get_transactions\n",
    "from tokens import get_token_transfers\n",
    "from time_series import get_time_series\n",
    "from graph import count_transactions_by_address\n",
    "from typing import List, Tuple, Dict\n",
    "\n",
    "session = requests_cache.CachedSession('../cache',\n",
    "                                       expire_after=timedelta(days=3))\n",
    "\n",
    "# INPUT = \"0x71B5b8Ec4D724849E76954A1475930dcE9c4B994\"\n",
    "INPUT = \"kartik.eth\"\n",
    "input = INPUT\n",
    "\n",
    "if input.endswith(\".eth\"):\n",
    "    input = address_from_ens(session, input)\n",
    "ens = ens_from_address(session, input)\n",
    "other_ens_owned = other_ens_owned_by(session, input)\n",
    "addresses_with_domain_events = domain_events(session, input)\n",
    "transactions = get_transactions(session, input)\n",
    "token_transfers = get_token_transfers(session, input)"
   ]
  },
  {
   "cell_type": "code",
   "execution_count": 22,
   "metadata": {},
   "outputs": [
    {
     "data": {
      "text/html": [
       "<div>\n",
       "<style scoped>\n",
       "    .dataframe tbody tr th:only-of-type {\n",
       "        vertical-align: middle;\n",
       "    }\n",
       "\n",
       "    .dataframe tbody tr th {\n",
       "        vertical-align: top;\n",
       "    }\n",
       "\n",
       "    .dataframe thead th {\n",
       "        text-align: right;\n",
       "    }\n",
       "</style>\n",
       "<table border=\"1\" class=\"dataframe\">\n",
       "  <thead>\n",
       "    <tr style=\"text-align: right;\">\n",
       "      <th></th>\n",
       "      <th>from</th>\n",
       "      <th>from_ens</th>\n",
       "      <th>to</th>\n",
       "      <th>to_ens</th>\n",
       "      <th>contract</th>\n",
       "      <th>chain</th>\n",
       "      <th>timestamp</th>\n",
       "      <th>symbol</th>\n",
       "    </tr>\n",
       "  </thead>\n",
       "  <tbody>\n",
       "    <tr>\n",
       "      <th>0</th>\n",
       "      <td>0x53C61cfb8128ad59244E8c1D26109252ACe23d14</td>\n",
       "      <td>kartik.eth</td>\n",
       "      <td>0x253553366Da8546fC250F225fe3d25d0C782303b</td>\n",
       "      <td>controller.ens.eth</td>\n",
       "      <td>True</td>\n",
       "      <td>eth</td>\n",
       "      <td>2025-03-05T20:45:59.000000Z</td>\n",
       "      <td>NaN</td>\n",
       "    </tr>\n",
       "    <tr>\n",
       "      <th>1</th>\n",
       "      <td>0x53C61cfb8128ad59244E8c1D26109252ACe23d14</td>\n",
       "      <td>kartik.eth</td>\n",
       "      <td>0x283Af0B28c62C092C9727F1Ee09c02CA627EB7F5</td>\n",
       "      <td>None</td>\n",
       "      <td>True</td>\n",
       "      <td>eth</td>\n",
       "      <td>2025-03-05T20:41:47.000000Z</td>\n",
       "      <td>NaN</td>\n",
       "    </tr>\n",
       "    <tr>\n",
       "      <th>2</th>\n",
       "      <td>0x53C61cfb8128ad59244E8c1D26109252ACe23d14</td>\n",
       "      <td>kartik.eth</td>\n",
       "      <td>0x283Af0B28c62C092C9727F1Ee09c02CA627EB7F5</td>\n",
       "      <td>None</td>\n",
       "      <td>True</td>\n",
       "      <td>eth</td>\n",
       "      <td>2025-03-05T20:40:35.000000Z</td>\n",
       "      <td>NaN</td>\n",
       "    </tr>\n",
       "    <tr>\n",
       "      <th>3</th>\n",
       "      <td>0x53C61cfb8128ad59244E8c1D26109252ACe23d14</td>\n",
       "      <td>kartik.eth</td>\n",
       "      <td>0xA0b86991c6218b36c1d19D4a2e9Eb0cE3606eB48</td>\n",
       "      <td>None</td>\n",
       "      <td>True</td>\n",
       "      <td>eth</td>\n",
       "      <td>2025-02-08T03:13:35.000000Z</td>\n",
       "      <td>NaN</td>\n",
       "    </tr>\n",
       "    <tr>\n",
       "      <th>4</th>\n",
       "      <td>0x53C61cfb8128ad59244E8c1D26109252ACe23d14</td>\n",
       "      <td>kartik.eth</td>\n",
       "      <td>0xA0b86991c6218b36c1d19D4a2e9Eb0cE3606eB48</td>\n",
       "      <td>None</td>\n",
       "      <td>True</td>\n",
       "      <td>eth</td>\n",
       "      <td>2025-02-08T03:11:47.000000Z</td>\n",
       "      <td>NaN</td>\n",
       "    </tr>\n",
       "    <tr>\n",
       "      <th>...</th>\n",
       "      <td>...</td>\n",
       "      <td>...</td>\n",
       "      <td>...</td>\n",
       "      <td>...</td>\n",
       "      <td>...</td>\n",
       "      <td>...</td>\n",
       "      <td>...</td>\n",
       "      <td>...</td>\n",
       "    </tr>\n",
       "    <tr>\n",
       "      <th>307</th>\n",
       "      <td>0x53C61cfb8128ad59244E8c1D26109252ACe23d14</td>\n",
       "      <td>kartik.eth</td>\n",
       "      <td>0x8f61359578fe138F8444e08D225992bF2dA41c02</td>\n",
       "      <td>None</td>\n",
       "      <td>NaN</td>\n",
       "      <td>base</td>\n",
       "      <td>2024-05-11T23:58:29.000000Z</td>\n",
       "      <td>USDC</td>\n",
       "    </tr>\n",
       "    <tr>\n",
       "      <th>308</th>\n",
       "      <td>0x53C61cfb8128ad59244E8c1D26109252ACe23d14</td>\n",
       "      <td>kartik.eth</td>\n",
       "      <td>0x8f61359578fe138F8444e08D225992bF2dA41c02</td>\n",
       "      <td>None</td>\n",
       "      <td>NaN</td>\n",
       "      <td>base</td>\n",
       "      <td>2024-05-11T23:53:47.000000Z</td>\n",
       "      <td>USDC</td>\n",
       "    </tr>\n",
       "    <tr>\n",
       "      <th>309</th>\n",
       "      <td>0x53C61cfb8128ad59244E8c1D26109252ACe23d14</td>\n",
       "      <td>None</td>\n",
       "      <td>0x6b17ee547F38a210A43Dab7a72f65C9B6f69dcbD</td>\n",
       "      <td>None</td>\n",
       "      <td>NaN</td>\n",
       "      <td>polygon</td>\n",
       "      <td>2025-02-08T04:10:19.000000Z</td>\n",
       "      <td>USDC</td>\n",
       "    </tr>\n",
       "    <tr>\n",
       "      <th>310</th>\n",
       "      <td>0x53C61cfb8128ad59244E8c1D26109252ACe23d14</td>\n",
       "      <td>None</td>\n",
       "      <td>0xC990c9FCddF261464f5B5c096Dbd7707c2BA1540</td>\n",
       "      <td>None</td>\n",
       "      <td>NaN</td>\n",
       "      <td>polygon</td>\n",
       "      <td>2025-02-08T04:10:19.000000Z</td>\n",
       "      <td>USDC</td>\n",
       "    </tr>\n",
       "    <tr>\n",
       "      <th>311</th>\n",
       "      <td>0x53C61cfb8128ad59244E8c1D26109252ACe23d14</td>\n",
       "      <td>None</td>\n",
       "      <td>0x0319000133d3AdA02600f0875d2cf03D442C3367</td>\n",
       "      <td>None</td>\n",
       "      <td>NaN</td>\n",
       "      <td>polygon</td>\n",
       "      <td>2024-04-01T02:22:11.000000Z</td>\n",
       "      <td>WETH</td>\n",
       "    </tr>\n",
       "  </tbody>\n",
       "</table>\n",
       "<p>312 rows × 8 columns</p>\n",
       "</div>"
      ],
      "text/plain": [
       "                                           from    from_ens  \\\n",
       "0    0x53C61cfb8128ad59244E8c1D26109252ACe23d14  kartik.eth   \n",
       "1    0x53C61cfb8128ad59244E8c1D26109252ACe23d14  kartik.eth   \n",
       "2    0x53C61cfb8128ad59244E8c1D26109252ACe23d14  kartik.eth   \n",
       "3    0x53C61cfb8128ad59244E8c1D26109252ACe23d14  kartik.eth   \n",
       "4    0x53C61cfb8128ad59244E8c1D26109252ACe23d14  kartik.eth   \n",
       "..                                          ...         ...   \n",
       "307  0x53C61cfb8128ad59244E8c1D26109252ACe23d14  kartik.eth   \n",
       "308  0x53C61cfb8128ad59244E8c1D26109252ACe23d14  kartik.eth   \n",
       "309  0x53C61cfb8128ad59244E8c1D26109252ACe23d14        None   \n",
       "310  0x53C61cfb8128ad59244E8c1D26109252ACe23d14        None   \n",
       "311  0x53C61cfb8128ad59244E8c1D26109252ACe23d14        None   \n",
       "\n",
       "                                             to              to_ens contract  \\\n",
       "0    0x253553366Da8546fC250F225fe3d25d0C782303b  controller.ens.eth     True   \n",
       "1    0x283Af0B28c62C092C9727F1Ee09c02CA627EB7F5                None     True   \n",
       "2    0x283Af0B28c62C092C9727F1Ee09c02CA627EB7F5                None     True   \n",
       "3    0xA0b86991c6218b36c1d19D4a2e9Eb0cE3606eB48                None     True   \n",
       "4    0xA0b86991c6218b36c1d19D4a2e9Eb0cE3606eB48                None     True   \n",
       "..                                          ...                 ...      ...   \n",
       "307  0x8f61359578fe138F8444e08D225992bF2dA41c02                None      NaN   \n",
       "308  0x8f61359578fe138F8444e08D225992bF2dA41c02                None      NaN   \n",
       "309  0x6b17ee547F38a210A43Dab7a72f65C9B6f69dcbD                None      NaN   \n",
       "310  0xC990c9FCddF261464f5B5c096Dbd7707c2BA1540                None      NaN   \n",
       "311  0x0319000133d3AdA02600f0875d2cf03D442C3367                None      NaN   \n",
       "\n",
       "       chain                    timestamp symbol  \n",
       "0        eth  2025-03-05T20:45:59.000000Z    NaN  \n",
       "1        eth  2025-03-05T20:41:47.000000Z    NaN  \n",
       "2        eth  2025-03-05T20:40:35.000000Z    NaN  \n",
       "3        eth  2025-02-08T03:13:35.000000Z    NaN  \n",
       "4        eth  2025-02-08T03:11:47.000000Z    NaN  \n",
       "..       ...                          ...    ...  \n",
       "307     base  2024-05-11T23:58:29.000000Z   USDC  \n",
       "308     base  2024-05-11T23:53:47.000000Z   USDC  \n",
       "309  polygon  2025-02-08T04:10:19.000000Z   USDC  \n",
       "310  polygon  2025-02-08T04:10:19.000000Z   USDC  \n",
       "311  polygon  2024-04-01T02:22:11.000000Z   WETH  \n",
       "\n",
       "[312 rows x 8 columns]"
      ]
     },
     "execution_count": 22,
     "metadata": {},
     "output_type": "execute_result"
    }
   ],
   "source": [
    "import pandas as pd\n",
    "import numpy as np\n",
    "import plotly.express as px\n",
    "df = pd.DataFrame(transactions + token_transfers)\n",
    "# df = df[df['from'] == input]\n",
    "df"
   ]
  },
  {
   "cell_type": "code",
   "execution_count": 27,
   "metadata": {},
   "outputs": [
    {
     "name": "stdout",
     "output_type": "stream",
     "text": [
      "Least interactions are between 10:00 and 18:00 with 40 interactions.\n",
      "guessing timezone UTC-10\n"
     ]
    },
    {
     "data": {
      "text/plain": [
       "[24,\n",
       " 3,\n",
       " 16,\n",
       " 15,\n",
       " 14,\n",
       " 24,\n",
       " 20,\n",
       " 13,\n",
       " 6,\n",
       " 11,\n",
       " 3,\n",
       " 10,\n",
       " 2,\n",
       " 1,\n",
       " 3,\n",
       " 12,\n",
       " 7,\n",
       " 2,\n",
       " 17,\n",
       " 16,\n",
       " 37,\n",
       " 24,\n",
       " 10,\n",
       " 22]"
      ]
     },
     "execution_count": 27,
     "metadata": {},
     "output_type": "execute_result"
    }
   ],
   "source": [
    "df['hour'] = pd.to_datetime(df['timestamp']).dt.hour\n",
    "hour_counts = df['hour'].value_counts().sort_index()\n",
    "\n",
    "# Ensure all 24 hours are represented (fill 0 where no data)\n",
    "full_hour_counts = pd.Series([hour_counts.get(i, 0) for i in range(24)], index=range(24))\n",
    "# Convert to numpy for rolling sum\n",
    "counts_array = np.array(full_hour_counts.tolist())\n",
    "# Duplicate the array to handle wrap-around for circular window\n",
    "counts_double = np.concatenate([counts_array, counts_array[:7]])  # 24 + 7 = 31 elements\n",
    "# Find 8-hour rolling sum and get the start index of the minimum sum\n",
    "window_sums = np.convolve(counts_double, np.ones(8, dtype=int), 'valid')[:24]\n",
    "min_start_hour = np.argmin(window_sums)\n",
    "min_sum = window_sums[min_start_hour]\n",
    "\n",
    "# Output result\n",
    "end_hour = (min_start_hour + 8) % 24\n",
    "print(f\"Least interactions are between {min_start_hour:02d}:00 and {end_hour:02d}:00 with {min_sum} interactions.\")\n",
    "print(f\"guessing timezone UTC-{min_start_hour}\")\n",
    "full_hour_counts.to_list()"
   ]
  },
  {
   "cell_type": "code",
   "execution_count": 24,
   "metadata": {},
   "outputs": [
    {
     "data": {
      "application/vnd.plotly.v1+json": {
       "config": {
        "plotlyServerURL": "https://plot.ly"
       },
       "data": [
        {
         "bingroup": "x",
         "hovertemplate": "hour=%{x}<br>count=%{y}<extra></extra>",
         "legendgroup": "",
         "marker": {
          "color": "#636efa",
          "pattern": {
           "shape": ""
          }
         },
         "name": "",
         "nbinsx": 24,
         "orientation": "v",
         "showlegend": false,
         "type": "histogram",
         "x": {
          "bdata": "FAAAABQAAAAUAAAAAwAAAAMAAAACAAAACgAAAAoAAAASAAAAEgAAABIAAAADAAAAFAAAAAsAAAALAAAACQAAAAkAAAAQAAAAEAAAAAsAAAALAAAACwAAAAsAAAALAAAACwAAAAAAAAAAAAAAAAAAAAAAAAAXAAAAFwAAABcAAAAXAAAAFwAAABcAAAACAAAABAAAAAQAAAARAAAAFQAAABMAAAAPAAAADwAAAA8AAAAAAAAAEAAAAAkAAAATAAAADwAAAAwAAAAAAAAABQAAAAQAAAAEAAAABAAAAAYAAAASAAAAEgAAABIAAAASAAAAEgAAABIAAAASAAAAEgAAAAQAAAAFAAAABQAAAAUAAAAFAAAABgAAAAAAAAAAAAAABgAAAAYAAAAFAAAABQAAAAUAAAAFAAAABAAAABUAAAAFAAAACQAAAAYAAAAXAAAAAQAAAAIAAAAHAAAABgAAAAMAAAABAAAABQAAAAUAAAACAAAABgAAAAkAAAADAAAACQAAAAIAAAAWAAAAFQAAABUAAAAUAAAAFAAAABQAAAAUAAAAFAAAABYAAAAWAAAAEQAAAAIAAAACAAAABgAAABcAAAAXAAAAEAAAAAQAAAAIAAAADAAAAAEAAAAGAAAAFQAAABUAAAAVAAAAFQAAABQAAAAUAAAAFAAAABQAAAAUAAAAEwAAABMAAAAAAAAABgAAAAAAAAACAAAABQAAAAUAAAASAAAADwAAAA8AAAAPAAAAEwAAABMAAAAQAAAACQAAABUAAAAVAAAAFQAAABcAAAAXAAAAFwAAABcAAAAPAAAADwAAABUAAAAVAAAADwAAABYAAAAPAAAAAgAAAAIAAAACAAAAAgAAAAIAAAAQAAAAEwAAAAQAAAAJAAAAAAAAAAAAAAATAAAAAAAAAAgAAAAAAAAAEwAAABUAAAAVAAAAFQAAABUAAAANAAAACAAAAAcAAAAUAAAAAwAAAAMAAAACAAAAFgAAAAAAAAAAAAAAEgAAABcAAAAXAAAAFAAAABMAAAAQAAAABwAAAAYAAAAGAAAABQAAAAUAAAAFAAAACAAAAAgAAAAHAAAABwAAAAcAAAAHAAAABwAAAAYAAAAGAAAABgAAAAYAAAAGAAAABgAAAAgAAAAHAAAABwAAAAMAAAADAAAAFAAAABQAAAAUAAAABwAAAAcAAAAWAAAABAAAAA4AAAAOAAAADgAAAAAAAAASAAAAEgAAABUAAAAJAAAAFAAAAAMAAAATAAAABQAAAAMAAAAUAAAAFAAAAAYAAAAWAAAAFAAAAAQAAAATAAAABQAAABQAAAAUAAAAAAAAABYAAAATAAAAFgAAABQAAAAUAAAAFAAAABQAAAAUAAAAFgAAABQAAAADAAAAEwAAAAMAAAADAAAAAgAAAAoAAAADAAAAFAAAAAsAAAALAAAACQAAAAkAAAAAAAAAAAAAABcAAAAXAAAAFwAAABcAAAAEAAAAFQAAABIAAAAFAAAABQAAABIAAAAVAAAAFQAAABUAAAAVAAAAFAAAABQAAAAUAAAAFAAAABQAAAATAAAAEwAAAAAAAAAAAAAABwAAAAYAAAAFAAAABQAAAAUAAAAPAAAAFQAAAAAAAAAAAAAAFwAAABcAAAAXAAAABAAAAAQAAAACAAAA",
          "dtype": "i4"
         },
         "xaxis": "x",
         "yaxis": "y"
        }
       ],
       "layout": {
        "barmode": "relative",
        "legend": {
         "tracegroupgap": 0
        },
        "margin": {
         "t": 60
        },
        "template": {
         "data": {
          "bar": [
           {
            "error_x": {
             "color": "#2a3f5f"
            },
            "error_y": {
             "color": "#2a3f5f"
            },
            "marker": {
             "line": {
              "color": "#E5ECF6",
              "width": 0.5
             },
             "pattern": {
              "fillmode": "overlay",
              "size": 10,
              "solidity": 0.2
             }
            },
            "type": "bar"
           }
          ],
          "barpolar": [
           {
            "marker": {
             "line": {
              "color": "#E5ECF6",
              "width": 0.5
             },
             "pattern": {
              "fillmode": "overlay",
              "size": 10,
              "solidity": 0.2
             }
            },
            "type": "barpolar"
           }
          ],
          "carpet": [
           {
            "aaxis": {
             "endlinecolor": "#2a3f5f",
             "gridcolor": "white",
             "linecolor": "white",
             "minorgridcolor": "white",
             "startlinecolor": "#2a3f5f"
            },
            "baxis": {
             "endlinecolor": "#2a3f5f",
             "gridcolor": "white",
             "linecolor": "white",
             "minorgridcolor": "white",
             "startlinecolor": "#2a3f5f"
            },
            "type": "carpet"
           }
          ],
          "choropleth": [
           {
            "colorbar": {
             "outlinewidth": 0,
             "ticks": ""
            },
            "type": "choropleth"
           }
          ],
          "contour": [
           {
            "colorbar": {
             "outlinewidth": 0,
             "ticks": ""
            },
            "colorscale": [
             [
              0,
              "#0d0887"
             ],
             [
              0.1111111111111111,
              "#46039f"
             ],
             [
              0.2222222222222222,
              "#7201a8"
             ],
             [
              0.3333333333333333,
              "#9c179e"
             ],
             [
              0.4444444444444444,
              "#bd3786"
             ],
             [
              0.5555555555555556,
              "#d8576b"
             ],
             [
              0.6666666666666666,
              "#ed7953"
             ],
             [
              0.7777777777777778,
              "#fb9f3a"
             ],
             [
              0.8888888888888888,
              "#fdca26"
             ],
             [
              1,
              "#f0f921"
             ]
            ],
            "type": "contour"
           }
          ],
          "contourcarpet": [
           {
            "colorbar": {
             "outlinewidth": 0,
             "ticks": ""
            },
            "type": "contourcarpet"
           }
          ],
          "heatmap": [
           {
            "colorbar": {
             "outlinewidth": 0,
             "ticks": ""
            },
            "colorscale": [
             [
              0,
              "#0d0887"
             ],
             [
              0.1111111111111111,
              "#46039f"
             ],
             [
              0.2222222222222222,
              "#7201a8"
             ],
             [
              0.3333333333333333,
              "#9c179e"
             ],
             [
              0.4444444444444444,
              "#bd3786"
             ],
             [
              0.5555555555555556,
              "#d8576b"
             ],
             [
              0.6666666666666666,
              "#ed7953"
             ],
             [
              0.7777777777777778,
              "#fb9f3a"
             ],
             [
              0.8888888888888888,
              "#fdca26"
             ],
             [
              1,
              "#f0f921"
             ]
            ],
            "type": "heatmap"
           }
          ],
          "histogram": [
           {
            "marker": {
             "pattern": {
              "fillmode": "overlay",
              "size": 10,
              "solidity": 0.2
             }
            },
            "type": "histogram"
           }
          ],
          "histogram2d": [
           {
            "colorbar": {
             "outlinewidth": 0,
             "ticks": ""
            },
            "colorscale": [
             [
              0,
              "#0d0887"
             ],
             [
              0.1111111111111111,
              "#46039f"
             ],
             [
              0.2222222222222222,
              "#7201a8"
             ],
             [
              0.3333333333333333,
              "#9c179e"
             ],
             [
              0.4444444444444444,
              "#bd3786"
             ],
             [
              0.5555555555555556,
              "#d8576b"
             ],
             [
              0.6666666666666666,
              "#ed7953"
             ],
             [
              0.7777777777777778,
              "#fb9f3a"
             ],
             [
              0.8888888888888888,
              "#fdca26"
             ],
             [
              1,
              "#f0f921"
             ]
            ],
            "type": "histogram2d"
           }
          ],
          "histogram2dcontour": [
           {
            "colorbar": {
             "outlinewidth": 0,
             "ticks": ""
            },
            "colorscale": [
             [
              0,
              "#0d0887"
             ],
             [
              0.1111111111111111,
              "#46039f"
             ],
             [
              0.2222222222222222,
              "#7201a8"
             ],
             [
              0.3333333333333333,
              "#9c179e"
             ],
             [
              0.4444444444444444,
              "#bd3786"
             ],
             [
              0.5555555555555556,
              "#d8576b"
             ],
             [
              0.6666666666666666,
              "#ed7953"
             ],
             [
              0.7777777777777778,
              "#fb9f3a"
             ],
             [
              0.8888888888888888,
              "#fdca26"
             ],
             [
              1,
              "#f0f921"
             ]
            ],
            "type": "histogram2dcontour"
           }
          ],
          "mesh3d": [
           {
            "colorbar": {
             "outlinewidth": 0,
             "ticks": ""
            },
            "type": "mesh3d"
           }
          ],
          "parcoords": [
           {
            "line": {
             "colorbar": {
              "outlinewidth": 0,
              "ticks": ""
             }
            },
            "type": "parcoords"
           }
          ],
          "pie": [
           {
            "automargin": true,
            "type": "pie"
           }
          ],
          "scatter": [
           {
            "fillpattern": {
             "fillmode": "overlay",
             "size": 10,
             "solidity": 0.2
            },
            "type": "scatter"
           }
          ],
          "scatter3d": [
           {
            "line": {
             "colorbar": {
              "outlinewidth": 0,
              "ticks": ""
             }
            },
            "marker": {
             "colorbar": {
              "outlinewidth": 0,
              "ticks": ""
             }
            },
            "type": "scatter3d"
           }
          ],
          "scattercarpet": [
           {
            "marker": {
             "colorbar": {
              "outlinewidth": 0,
              "ticks": ""
             }
            },
            "type": "scattercarpet"
           }
          ],
          "scattergeo": [
           {
            "marker": {
             "colorbar": {
              "outlinewidth": 0,
              "ticks": ""
             }
            },
            "type": "scattergeo"
           }
          ],
          "scattergl": [
           {
            "marker": {
             "colorbar": {
              "outlinewidth": 0,
              "ticks": ""
             }
            },
            "type": "scattergl"
           }
          ],
          "scattermap": [
           {
            "marker": {
             "colorbar": {
              "outlinewidth": 0,
              "ticks": ""
             }
            },
            "type": "scattermap"
           }
          ],
          "scattermapbox": [
           {
            "marker": {
             "colorbar": {
              "outlinewidth": 0,
              "ticks": ""
             }
            },
            "type": "scattermapbox"
           }
          ],
          "scatterpolar": [
           {
            "marker": {
             "colorbar": {
              "outlinewidth": 0,
              "ticks": ""
             }
            },
            "type": "scatterpolar"
           }
          ],
          "scatterpolargl": [
           {
            "marker": {
             "colorbar": {
              "outlinewidth": 0,
              "ticks": ""
             }
            },
            "type": "scatterpolargl"
           }
          ],
          "scatterternary": [
           {
            "marker": {
             "colorbar": {
              "outlinewidth": 0,
              "ticks": ""
             }
            },
            "type": "scatterternary"
           }
          ],
          "surface": [
           {
            "colorbar": {
             "outlinewidth": 0,
             "ticks": ""
            },
            "colorscale": [
             [
              0,
              "#0d0887"
             ],
             [
              0.1111111111111111,
              "#46039f"
             ],
             [
              0.2222222222222222,
              "#7201a8"
             ],
             [
              0.3333333333333333,
              "#9c179e"
             ],
             [
              0.4444444444444444,
              "#bd3786"
             ],
             [
              0.5555555555555556,
              "#d8576b"
             ],
             [
              0.6666666666666666,
              "#ed7953"
             ],
             [
              0.7777777777777778,
              "#fb9f3a"
             ],
             [
              0.8888888888888888,
              "#fdca26"
             ],
             [
              1,
              "#f0f921"
             ]
            ],
            "type": "surface"
           }
          ],
          "table": [
           {
            "cells": {
             "fill": {
              "color": "#EBF0F8"
             },
             "line": {
              "color": "white"
             }
            },
            "header": {
             "fill": {
              "color": "#C8D4E3"
             },
             "line": {
              "color": "white"
             }
            },
            "type": "table"
           }
          ]
         },
         "layout": {
          "annotationdefaults": {
           "arrowcolor": "#2a3f5f",
           "arrowhead": 0,
           "arrowwidth": 1
          },
          "autotypenumbers": "strict",
          "coloraxis": {
           "colorbar": {
            "outlinewidth": 0,
            "ticks": ""
           }
          },
          "colorscale": {
           "diverging": [
            [
             0,
             "#8e0152"
            ],
            [
             0.1,
             "#c51b7d"
            ],
            [
             0.2,
             "#de77ae"
            ],
            [
             0.3,
             "#f1b6da"
            ],
            [
             0.4,
             "#fde0ef"
            ],
            [
             0.5,
             "#f7f7f7"
            ],
            [
             0.6,
             "#e6f5d0"
            ],
            [
             0.7,
             "#b8e186"
            ],
            [
             0.8,
             "#7fbc41"
            ],
            [
             0.9,
             "#4d9221"
            ],
            [
             1,
             "#276419"
            ]
           ],
           "sequential": [
            [
             0,
             "#0d0887"
            ],
            [
             0.1111111111111111,
             "#46039f"
            ],
            [
             0.2222222222222222,
             "#7201a8"
            ],
            [
             0.3333333333333333,
             "#9c179e"
            ],
            [
             0.4444444444444444,
             "#bd3786"
            ],
            [
             0.5555555555555556,
             "#d8576b"
            ],
            [
             0.6666666666666666,
             "#ed7953"
            ],
            [
             0.7777777777777778,
             "#fb9f3a"
            ],
            [
             0.8888888888888888,
             "#fdca26"
            ],
            [
             1,
             "#f0f921"
            ]
           ],
           "sequentialminus": [
            [
             0,
             "#0d0887"
            ],
            [
             0.1111111111111111,
             "#46039f"
            ],
            [
             0.2222222222222222,
             "#7201a8"
            ],
            [
             0.3333333333333333,
             "#9c179e"
            ],
            [
             0.4444444444444444,
             "#bd3786"
            ],
            [
             0.5555555555555556,
             "#d8576b"
            ],
            [
             0.6666666666666666,
             "#ed7953"
            ],
            [
             0.7777777777777778,
             "#fb9f3a"
            ],
            [
             0.8888888888888888,
             "#fdca26"
            ],
            [
             1,
             "#f0f921"
            ]
           ]
          },
          "colorway": [
           "#636efa",
           "#EF553B",
           "#00cc96",
           "#ab63fa",
           "#FFA15A",
           "#19d3f3",
           "#FF6692",
           "#B6E880",
           "#FF97FF",
           "#FECB52"
          ],
          "font": {
           "color": "#2a3f5f"
          },
          "geo": {
           "bgcolor": "white",
           "lakecolor": "white",
           "landcolor": "#E5ECF6",
           "showlakes": true,
           "showland": true,
           "subunitcolor": "white"
          },
          "hoverlabel": {
           "align": "left"
          },
          "hovermode": "closest",
          "mapbox": {
           "style": "light"
          },
          "paper_bgcolor": "white",
          "plot_bgcolor": "#E5ECF6",
          "polar": {
           "angularaxis": {
            "gridcolor": "white",
            "linecolor": "white",
            "ticks": ""
           },
           "bgcolor": "#E5ECF6",
           "radialaxis": {
            "gridcolor": "white",
            "linecolor": "white",
            "ticks": ""
           }
          },
          "scene": {
           "xaxis": {
            "backgroundcolor": "#E5ECF6",
            "gridcolor": "white",
            "gridwidth": 2,
            "linecolor": "white",
            "showbackground": true,
            "ticks": "",
            "zerolinecolor": "white"
           },
           "yaxis": {
            "backgroundcolor": "#E5ECF6",
            "gridcolor": "white",
            "gridwidth": 2,
            "linecolor": "white",
            "showbackground": true,
            "ticks": "",
            "zerolinecolor": "white"
           },
           "zaxis": {
            "backgroundcolor": "#E5ECF6",
            "gridcolor": "white",
            "gridwidth": 2,
            "linecolor": "white",
            "showbackground": true,
            "ticks": "",
            "zerolinecolor": "white"
           }
          },
          "shapedefaults": {
           "line": {
            "color": "#2a3f5f"
           }
          },
          "ternary": {
           "aaxis": {
            "gridcolor": "white",
            "linecolor": "white",
            "ticks": ""
           },
           "baxis": {
            "gridcolor": "white",
            "linecolor": "white",
            "ticks": ""
           },
           "bgcolor": "#E5ECF6",
           "caxis": {
            "gridcolor": "white",
            "linecolor": "white",
            "ticks": ""
           }
          },
          "title": {
           "x": 0.05
          },
          "xaxis": {
           "automargin": true,
           "gridcolor": "white",
           "linecolor": "white",
           "ticks": "",
           "title": {
            "standoff": 15
           },
           "zerolinecolor": "white",
           "zerolinewidth": 2
          },
          "yaxis": {
           "automargin": true,
           "gridcolor": "white",
           "linecolor": "white",
           "ticks": "",
           "title": {
            "standoff": 15
           },
           "zerolinecolor": "white",
           "zerolinewidth": 2
          }
         }
        },
        "xaxis": {
         "anchor": "y",
         "domain": [
          0,
          1
         ],
         "title": {
          "text": "hour"
         }
        },
        "yaxis": {
         "anchor": "x",
         "domain": [
          0,
          1
         ],
         "title": {
          "text": "count"
         }
        }
       }
      }
     },
     "metadata": {},
     "output_type": "display_data"
    }
   ],
   "source": [
    "px.histogram(df, x='hour', nbins=24)"
   ]
  }
 ],
 "metadata": {
  "kernelspec": {
   "display_name": ".venv",
   "language": "python",
   "name": "python3"
  },
  "language_info": {
   "codemirror_mode": {
    "name": "ipython",
    "version": 3
   },
   "file_extension": ".py",
   "mimetype": "text/x-python",
   "name": "python",
   "nbconvert_exporter": "python",
   "pygments_lexer": "ipython3",
   "version": "3.13.3"
  }
 },
 "nbformat": 4,
 "nbformat_minor": 2
}
