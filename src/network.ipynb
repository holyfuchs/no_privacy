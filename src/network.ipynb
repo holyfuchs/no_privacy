{
 "cells": [
  {
   "cell_type": "code",
   "execution_count": 24,
   "metadata": {},
   "outputs": [
    {
     "name": "stdout",
     "output_type": "stream",
     "text": [
      "https://bens.services.blockscout.com/api/v1/1/domains/poaplabs.eth/events\n",
      "[{'transaction_hash': '0x82f3d1667d634e4c825ccafda954f660f50930eea31023d00d72beeb0d1c752a', 'timestamp': '2025-03-28T16:20:59.000000Z', 'from_address': {'hash': '0xf540fdFA0a08303C918ad383251ce8C48c42C39A'}, 'action': 'registerWithConfig'}]\n",
      "https://bens.services.blockscout.com/api/v1/1/domains/poap.9dcc.eth/events\n",
      "[{'transaction_hash': '0xf5872cc6672b1cf7d59198a103e0077f34146815c7814b97305ed5012702496d', 'timestamp': '2022-12-15T04:52:11.000000Z', 'from_address': {'hash': '0xDF5657aB94dD8927A63E4c3043d3d57a3b552aa7'}, 'action': 'registerWithProof'}]\n",
      "https://bens.services.blockscout.com/api/v1/1/domains/poap.mirror.xyz/events\n",
      "[{'transaction_hash': '0xccc8be47542411f26fd86a820c2d58a7bd337ad4ccc7b397003014f34e8d05ed', 'timestamp': '2022-10-27T22:28:47.000000Z', 'from_address': {'hash': '0xf6B6F07862A02C85628B3A9688beae07fEA9C863'}, 'action': 'register'}]\n",
      "https://bens.services.blockscout.com/api/v1/1/domains/mbag.eth/events\n",
      "[{'transaction_hash': '0x931bcff3d24a61d4d20a0c61ed962a9e83b89f321437047d1b49475641f1bd74', 'timestamp': '2023-07-17T17:24:59.000000Z', 'from_address': {'hash': '0xf6B6F07862A02C85628B3A9688beae07fEA9C863'}, 'action': 'safeTransferFrom'}, {'transaction_hash': '0x14bf95b410830032c4394fd98ee17255436c6c5a7fe77556966b088e9a98dd04', 'timestamp': '2023-07-17T17:22:47.000000Z', 'from_address': {'hash': '0xf6B6F07862A02C85628B3A9688beae07fEA9C863'}, 'action': 'register'}, {'transaction_hash': '0xc0d85a700f659024f8d219a75ecfecfc61f21688ad1220a1f152cd8ffa8aeee2', 'timestamp': '2022-07-12T13:21:22.000000Z', 'from_address': {'hash': '0x8C2D9C1a98944963b4693f5d30F57056aA2485Ce'}, 'action': 'registerAll'}]\n",
      "https://bens.services.blockscout.com/api/v1/1/domains/poapcollection.eth/events\n",
      "[{'transaction_hash': '0x58c18534b3a2f4c04b68d958d79c05debcd2755a456b01a8b46bb10878cfadff', 'timestamp': '2023-07-05T00:25:59.000000Z', 'from_address': {'hash': '0xf6B6F07862A02C85628B3A9688beae07fEA9C863'}, 'action': 'register'}, {'transaction_hash': '0x4f2b65397e3a9c87198c92b8c5da479103c98c79d82e4a279af4097bc991d79a', 'timestamp': '2022-12-25T21:56:59.000000Z', 'from_address': {'hash': '0x0445AAFb11b67607c172B4125d80722c613362a9'}, 'action': 'bulkTransfer'}, {'transaction_hash': '0x609bda9cef7d997dbab5184d33323ae257a18cd66249626870f15fc3bb31b0fc', 'timestamp': '2022-02-14T21:16:06.000000Z', 'from_address': {'hash': '0x0445AAFb11b67607c172B4125d80722c613362a9'}, 'action': 'setAddr'}, {'transaction_hash': '0xd1e2068bc3113869871ae943aa505526d63373a4baf5b478c5dd17265959f466', 'timestamp': '2022-02-13T01:03:05.000000Z', 'from_address': {'hash': '0x3A01a1bB443D13492f1C5Cb9F25e3058fD9B67c4'}, 'action': 'setOwner'}, {'transaction_hash': '0xb580540d79b3a94c41d13db2213834a959450891f8d43b8e9d35914a7eaa0468', 'timestamp': '2022-02-13T01:02:23.000000Z', 'from_address': {'hash': '0x3A01a1bB443D13492f1C5Cb9F25e3058fD9B67c4'}, 'action': 'transferFrom'}, {'transaction_hash': '0xf2b315e5f306a528c114155db4f56f87d9a7f67cbf97625d78ed080ea07b3ae8', 'timestamp': '2022-02-12T17:43:23.000000Z', 'from_address': {'hash': '0x3A01a1bB443D13492f1C5Cb9F25e3058fD9B67c4'}, 'action': 'registerWithConfig'}]\n",
      "https://bens.services.blockscout.com/api/v1/1/domains/poap.sismo.eth/events\n",
      "[{'transaction_hash': '0x2be8092f3c3e5e439173b4df8cac59be98bbeb87d8c0799fa6c13679f164a0de', 'timestamp': '2021-11-26T17:47:01.000000Z', 'from_address': {'hash': '0xf6B6F07862A02C85628B3A9688beae07fEA9C863'}, 'action': 'registerWithAccessCode'}]\n",
      "https://bens.services.blockscout.com/api/v1/1/domains/juliuspreite.eth/events\n",
      "[{'transaction_hash': '0x46407724e2a5d580b5769d186aebda5937ca50d287a33cdba40c82b08888a1e1', 'timestamp': '2022-05-26T14:34:41.000000Z', 'from_address': {'hash': '0xf6B6F07862A02C85628B3A9688beae07fEA9C863'}, 'action': 'transferFrom'}, {'transaction_hash': '0xa37f8b28f7d7729b63dcbbff2d3efc9c298b0743219e37a72d1398700ffe1144', 'timestamp': '2021-04-05T14:21:34.000000Z', 'from_address': {'hash': '0xf6B6F07862A02C85628B3A9688beae07fEA9C863'}, 'action': 'registerWithConfig'}]\n",
      "https://bens.services.blockscout.com/api/v1/1/domains/lavarello.eth/events\n",
      "[{'transaction_hash': '0xcdd8631f09a5744d7c580195ae306aecc95266e36fbce85c6a761a7e68ba1d49', 'timestamp': '2023-12-10T01:29:23.000000Z', 'from_address': {'hash': '0x4430eDFBB4777B3F8E5b951803657703039D688b'}, 'action': 'renew'}, {'transaction_hash': '0x009707c4546cca5e7bf3311026c8b56b285d7f16b4f88ec33b203d7ecdecee07', 'timestamp': '2023-12-07T20:14:47.000000Z', 'from_address': {'hash': '0xf6B6F07862A02C85628B3A9688beae07fEA9C863'}, 'action': 'safeTransferFrom'}, {'transaction_hash': '0x1e58e16a6acbfd42ba84e8d0d84ab6f4045b6f0d06eca78b9d6deb89565612e7', 'timestamp': '2023-12-07T19:23:47.000000Z', 'from_address': {'hash': '0xf6B6F07862A02C85628B3A9688beae07fEA9C863'}, 'action': 'register'}, {'transaction_hash': '0x1552d4928ecb1d9a19c26c502d3d49fd57d88541e44bda7a1a887c6684dd5c00', 'timestamp': '2020-10-15T02:22:54.000000Z', 'from_address': {'hash': '0x8CbE9b8125E849579CD252F83087602b80adB219'}, 'action': 'renew'}, {'transaction_hash': '0x6e43ab3f39f2305384351af6cf73623f480bf62315b291bf156ae60fcd89a961', 'timestamp': '2020-02-04T10:55:01.000000Z', 'from_address': {'hash': '0x0904Dac3347eA47d208F3Fd67402D039a3b99859'}, 'action': 'migrateAll'}, {'transaction_hash': '0x0184cac73fbe64a9b13f89d9ca42361f7d9c781bbeef3d86ac7673234298e0e4', 'timestamp': '2019-11-15T17:48:37.000000Z', 'from_address': {'hash': '0x8CbE9b8125E849579CD252F83087602b80adB219'}, 'action': 'register'}]\n",
      "https://bens.services.blockscout.com/api/v1/1/domains/poap.eth/events\n",
      "[{'transaction_hash': '0x88fbe670c0101144170bed2443de66897010db7b79a0e3dfcea94a5da486e9a9', 'timestamp': '2023-05-04T15:25:59.000000Z', 'from_address': {'hash': '0xf6B6F07862A02C85628B3A9688beae07fEA9C863'}, 'action': 'setText'}, {'transaction_hash': '0x86fd250504741c27af090472523f2330147c197eb140a669d21515dcbd5db490', 'timestamp': '2023-01-06T04:53:59.000000Z', 'from_address': {'hash': '0xf6B6F07862A02C85628B3A9688beae07fEA9C863'}, 'action': 'renew'}, {'transaction_hash': '0x1b5e9a9c60b9692488b9bb5adacb7368a325c80c1ef971931ebeba136977fda6', 'timestamp': '2022-10-04T12:26:35.000000Z', 'from_address': {'hash': '0xf6B6F07862A02C85628B3A9688beae07fEA9C863'}, 'action': 'setContenthash'}, {'transaction_hash': '0x3fb16671afd2d65fd902bd7f82d9bae403111228f9a3eba75e7b117a803a23a8', 'timestamp': '2021-07-12T18:30:02.000000Z', 'from_address': {'hash': '0xf6B6F07862A02C85628B3A9688beae07fEA9C863'}, 'action': 'renew'}, {'transaction_hash': '0x01b812cb7278a9596de3491a17ec321d19f959129178c9f620b57270adf9fe22', 'timestamp': '2020-09-23T15:52:57.000000Z', 'from_address': {'hash': '0xf6B6F07862A02C85628B3A9688beae07fEA9C863'}, 'action': 'multicall'}, {'transaction_hash': '0xec420a2f99dc9814e7c9a556599b55e7099d5d1074ca8b62249ae134310e5cf3', 'timestamp': '2020-09-23T15:52:57.000000Z', 'from_address': {'hash': '0xf6B6F07862A02C85628B3A9688beae07fEA9C863'}, 'action': 'setResolver'}, {'transaction_hash': '0xd3ce803e14fe3f48709e0d6caf6fa0973b474d3b179469567cb390ea74261a45', 'timestamp': '2020-09-10T01:31:47.000000Z', 'from_address': {'hash': '0xf6B6F07862A02C85628B3A9688beae07fEA9C863'}, 'action': 'renew'}, {'transaction_hash': '0xef3860faf27e1f8a3bcd9b4af581dce99dde5eb8f150519e14d63fcc48ad0ba8', 'timestamp': '2020-02-06T01:31:27.000000Z', 'from_address': {'hash': '0x0904Dac3347eA47d208F3Fd67402D039a3b99859'}, 'action': 'migrateAll'}, {'transaction_hash': '0xca048d62b8aa31841ec45bc6a44a39c54842b56f6ca76499372851144f77c736', 'timestamp': '2019-09-12T20:23:04.000000Z', 'from_address': {'hash': '0xf6B6F07862A02C85628B3A9688beae07fEA9C863'}, 'action': 'setAddr'}, {'transaction_hash': '0xf8f5084ca2ce6e817e6bf7c384e5e849db4875d8fe9dbe25548e41a365ffebab', 'timestamp': '2019-08-26T05:17:06.000000Z', 'from_address': {'hash': '0x0904Dac3347eA47d208F3Fd67402D039a3b99859'}, 'action': 'resolveClaims'}]\n",
      "https://bens.services.blockscout.com/api/v1/1/domains/patricio.eth/events\n",
      "[{'transaction_hash': '0xd8b6b81b56923cbe741610859e052a2312bfc3e72eeecc83ea34b80c7d1a6f67', 'timestamp': '2021-08-25T13:46:43.000000Z', 'from_address': {'hash': '0xf6B6F07862A02C85628B3A9688beae07fEA9C863'}, 'action': 'renew'}, {'transaction_hash': '0x5af5eaa26c0cf0801796998461867030a376d04a4d3ca1b1421133e9b66ae383', 'timestamp': '2020-08-26T21:11:29.000000Z', 'from_address': {'hash': '0xf6B6F07862A02C85628B3A9688beae07fEA9C863'}, 'action': 'registerWithConfig'}, {'transaction_hash': '0x58ee9e3d08201decc7b7629d91a8027c383a5cf7d479e725c9a854dc0c79694f', 'timestamp': '2020-02-07T06:04:37.000000Z', 'from_address': {'hash': '0x0904Dac3347eA47d208F3Fd67402D039a3b99859'}, 'action': 'migrateAll'}, {'transaction_hash': '0x8ff6cf16b81681fe0d8530ec9520d12f9971ca46cbb43530fc68a63da14469d8', 'timestamp': '2019-08-06T07:14:59.000000Z', 'from_address': {'hash': '0xA7F3659c53820346176f7E0E350780DF304db179'}, 'action': 'transferRegistrars'}, {'transaction_hash': '0x0769b26d6689011b3af15f2be4cf643b3b0fc6b39d4afdefd47bd4a0b8fd9079', 'timestamp': '2017-06-02T13:26:13.000000Z', 'from_address': {'hash': '0xA7F3659c53820346176f7E0E350780DF304db179'}, 'action': 'finalizeAuction'}]\n"
     ]
    }
   ],
   "source": [
    "import requests_cache\n",
    "from datetime import timedelta\n",
    "import json\n",
    "from info import get_address_info\n",
    "from ens import address_from_ens, ens_from_address, other_ens_owned_by, domain_events\n",
    "from transactions import get_transactions\n",
    "from tokens import get_token_transfers\n",
    "from time_series import get_time_series\n",
    "from graph import count_transactions_by_address\n",
    "from typing import List, Tuple, Dict\n",
    "\n",
    "session = requests_cache.CachedSession('../cache',\n",
    "                                       expire_after=timedelta(days=3))\n",
    "\n",
    "# INPUT = \"0x71B5b8Ec4D724849E76954A1475930dcE9c4B994\"\n",
    "INPUT = \"kartik.eth\"\n",
    "INPUT = \"poap.eth\"\n",
    "input = INPUT\n",
    "\n",
    "if input.endswith(\".eth\"):\n",
    "    input = address_from_ens(session, input)\n",
    "ens = ens_from_address(session, input)\n",
    "other_ens_owned = other_ens_owned_by(session, input)\n",
    "addresses_with_domain_events = []\n",
    "for e in ens:\n",
    "    addresses_with_domain_events.extend(domain_events(session, e))\n",
    "transactions = get_transactions(session, input)\n",
    "token_transfers = get_token_transfers(session, input)"
   ]
  },
  {
   "cell_type": "code",
   "execution_count": 25,
   "metadata": {},
   "outputs": [
    {
     "data": {
      "text/plain": [
       "'0xf6B6F07862A02C85628B3A9688beae07fEA9C863'"
      ]
     },
     "execution_count": 25,
     "metadata": {},
     "output_type": "execute_result"
    }
   ],
   "source": [
    "input"
   ]
  },
  {
   "cell_type": "code",
   "execution_count": 26,
   "metadata": {},
   "outputs": [
    {
     "data": {
      "text/plain": [
       "['poaplabs.eth',\n",
       " 'poap.9dcc.eth',\n",
       " 'poap.mirror.xyz',\n",
       " 'mbag.eth',\n",
       " 'poapcollection.eth',\n",
       " 'poap.sismo.eth',\n",
       " 'juliuspreite.eth',\n",
       " 'lavarello.eth',\n",
       " 'poap.eth',\n",
       " 'patricio.eth']"
      ]
     },
     "execution_count": 26,
     "metadata": {},
     "output_type": "execute_result"
    }
   ],
   "source": [
    "ens"
   ]
  },
  {
   "cell_type": "code",
   "execution_count": 33,
   "metadata": {},
   "outputs": [
    {
     "data": {
      "text/plain": [
       "{'0x0904Dac3347eA47d208F3Fd67402D039a3b99859',\n",
       " '0x4430eDFBB4777B3F8E5b951803657703039D688b'}"
      ]
     },
     "execution_count": 33,
     "metadata": {},
     "output_type": "execute_result"
    }
   ],
   "source": [
    "addresses_with_domain_events = set(addresses_with_domain_events)\n",
    "if input in addresses_with_domain_events:\n",
    "    addresses_with_domain_events.remove(input)\n",
    "addresses_with_domain_events = list(addresses_with_domain_events)\n",
    "addresses_with_domain_events"
   ]
  },
  {
   "cell_type": "code",
   "execution_count": 16,
   "metadata": {},
   "outputs": [
    {
     "data": {
      "text/plain": [
       "[{'id': 0,\n",
       "  'label': 'ktalwar.eth\\nkartik.eth\\nacapital.eth',\n",
       "  'group': 1,\n",
       "  'size': 20,\n",
       "  'address': '0x53C61cfb8128ad59244E8c1D26109252ACe23d14'}]"
      ]
     },
     "execution_count": 16,
     "metadata": {},
     "output_type": "execute_result"
    }
   ],
   "source": [
    "nodes = [\n",
    "    {\"id\": 0, \"label\": \"\\n\".join(ens), \"group\": 1, \"size\": 20, \"address\": input},\n",
    "]\n",
    "edges = []\n",
    "nodes"
   ]
  },
  {
   "cell_type": "code",
   "execution_count": 17,
   "metadata": {},
   "outputs": [],
   "source": [
    "def add_address_to_nodes(address: str, strength: int, label: str = None):\n",
    "    node = nodes.find(lambda a: a[\"address\"] == address)\n",
    "    if node is None:\n",
    "        nodes.append({\n",
    "            \"id\": len(nodes),\n",
    "            \"label\": label if label else address,\n",
    "            \"group\": 2,\n",
    "            \"size\": 10\n",
    "        })\n",
    "    \n",
    "    edge = edges.find(lambda e: e[\"to\"] == node[\"id\"])\n",
    "    if edge is None:\n",
    "        edges.append({\n",
    "            \"from\": 0,\n",
    "            \"to\": node[\"id\"],\n",
    "            \"strength\": strength\n",
    "        })\n",
    "    else:\n",
    "        edges[edges.index(edge)][\"strength\"] += strength\n"
   ]
  },
  {
   "cell_type": "code",
   "execution_count": 18,
   "metadata": {},
   "outputs": [],
   "source": [
    "for e in other_ens_owned:\n",
    "    if e[\"address\"]:\n",
    "        add_address_to_nodes(e[\"address\"], 1, e[\"name\"])"
   ]
  },
  {
   "cell_type": "code",
   "execution_count": 19,
   "metadata": {},
   "outputs": [
    {
     "data": {
      "text/plain": [
       "[]"
      ]
     },
     "execution_count": 19,
     "metadata": {},
     "output_type": "execute_result"
    }
   ],
   "source": [
    "addresses_with_domain_events"
   ]
  }
 ],
 "metadata": {
  "kernelspec": {
   "display_name": ".venv",
   "language": "python",
   "name": "python3"
  },
  "language_info": {
   "codemirror_mode": {
    "name": "ipython",
    "version": 3
   },
   "file_extension": ".py",
   "mimetype": "text/x-python",
   "name": "python",
   "nbconvert_exporter": "python",
   "pygments_lexer": "ipython3",
   "version": "3.13.3"
  }
 },
 "nbformat": 4,
 "nbformat_minor": 2
}
